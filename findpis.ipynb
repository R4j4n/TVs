{
 "cells": [
  {
   "cell_type": "code",
   "execution_count": 2,
   "metadata": {},
   "outputs": [],
   "source": [
    "import socket\n",
    "from zeroconf import ServiceBrowser, ServiceStateChange, Zeroconf\n",
    "\n",
    "\n",
    "class PiDiscovery:\n",
    "    def __init__(self):\n",
    "        self.pis = {}\n",
    "        self.zeroconf = Zeroconf()\n",
    "        self.browser = ServiceBrowser(\n",
    "            self.zeroconf,\n",
    "            \"_pivideo._tcp.local.\",\n",
    "            handlers=[self.on_service_state_change],\n",
    "        )\n",
    "        \n",
    "    def on_service_state_change(self, zeroconf, service_type, name, state_change):\n",
    "        if state_change is ServiceStateChange.Added:\n",
    "            info = self.zeroconf.get_service_info(service_type, name)\n",
    "            if info:\n",
    "                ip = socket.inet_ntoa(info.addresses[0])\n",
    "                hostname = info.properties.get(b\"hostname\", b\"\").decode(\"utf-8\")\n",
    "                self.pis[hostname] = f\"http://{ip}:8000\"\n",
    "\n",
    "    def get_pis(self):\n",
    "        return self.pis\n",
    "\n",
    "\n",
    "discovery = PiDiscovery()\n"
   ]
  },
  {
   "cell_type": "code",
   "execution_count": 3,
   "metadata": {},
   "outputs": [
    {
     "data": {
      "text/plain": [
       "dict_items([])"
      ]
     },
     "execution_count": 3,
     "metadata": {},
     "output_type": "execute_result"
    }
   ],
   "source": [
    "discovery.get_pis().items()"
   ]
  },
  {
   "cell_type": "code",
   "execution_count": null,
   "metadata": {},
   "outputs": [
    {
     "name": "stdout",
     "output_type": "stream",
     "text": [
      "Scanning for Pis...\n",
      "Discovered Pis: []\n",
      "Stopping discovery.\n"
     ]
    },
    {
     "name": "stderr",
     "output_type": "stream",
     "text": [
      "Exception in thread zeroconf-ServiceBrowser-_pivideo._tcp-142730:\n",
      "Exception in thread zeroconf-ServiceBrowser-_pivideo._tcp-143298:\n",
      "Traceback (most recent call last):\n",
      "  File \u001b[35m\"/home/r1j1n/miniconda3/envs/dtv/lib/python3.13/threading.py\"\u001b[0m, line \u001b[35m1041\u001b[0m, in \u001b[35m_bootstrap_inner\u001b[0m\n",
      "    \u001b[31mself.run\u001b[0m\u001b[1;31m()\u001b[0m\n",
      "    \u001b[31m~~~~~~~~\u001b[0m\u001b[1;31m^^\u001b[0m\n",
      "  File \u001b[35m\"src/zeroconf/_services/browser.py\"\u001b[0m, line \u001b[35m811\u001b[0m, in \u001b[35mzeroconf._services.browser.ServiceBrowser.run\u001b[0m\n",
      "  File \u001b[35m\"src/zeroconf/_services/browser.py\"\u001b[0m, line \u001b[35m730\u001b[0m, in \u001b[35mzeroconf._services.browser._ServiceBrowserBase._fire_service_state_changed_event\u001b[0m\n",
      "  File \u001b[35m\"src/zeroconf/_services/browser.py\"\u001b[0m, line \u001b[35m740\u001b[0m, in \u001b[35mzeroconf._services.browser._ServiceBrowserBase._fire_service_state_changed_event\u001b[0m\n",
      "  File \u001b[35m\"src/zeroconf/_services/__init__.py\"\u001b[0m, line \u001b[35m56\u001b[0m, in \u001b[35mzeroconf._services.Signal.fire\u001b[0m\n",
      "  File \u001b[35m\"/tmp/ipykernel_142697/1764594277.py\"\u001b[0m, line \u001b[35m17\u001b[0m, in \u001b[35mon_service_state_change\u001b[0m\n",
      "    info = zeroconf.get_service_info(service_type, name)\n",
      "  File \u001b[35m\"/home/r1j1n/miniconda3/envs/dtv/lib/python3.13/site-packages/zeroconf/_core.py\"\u001b[0m, line \u001b[35m279\u001b[0m, in \u001b[35mget_service_info\u001b[0m\n",
      "    if \u001b[31minfo.request\u001b[0m\u001b[1;31m(self, timeout, question_type)\u001b[0m:\n",
      "       \u001b[31m~~~~~~~~~~~~\u001b[0m\u001b[1;31m^^^^^^^^^^^^^^^^^^^^^^^^^^^^^^\u001b[0m\n",
      "  File \u001b[35m\"src/zeroconf/_services/info.py\"\u001b[0m, line \u001b[35m796\u001b[0m, in \u001b[35mzeroconf._services.info.ServiceInfo.request\u001b[0m\n",
      "  File \u001b[35m\"/home/r1j1n/miniconda3/envs/dtv/lib/python3.13/site-packages/zeroconf/_utils/asyncio.py\"\u001b[0m, line \u001b[35m113\u001b[0m, in \u001b[35mrun_coro_with_timeout\u001b[0m\n",
      "    return \u001b[31masyncio.run_coroutine_threadsafe(aw, loop).result\u001b[0m\u001b[1;31m(\u001b[0m\n",
      "           \u001b[31m~~~~~~~~~~~~~~~~~~~~~~~~~~~~~~~~~~~~~~~~~~~~~~~~~\u001b[0m\u001b[1;31m^\u001b[0m\n",
      "        \u001b[1;31mmillis_to_seconds(timeout) + _LOADED_SYSTEM_TIMEOUT\u001b[0m\n",
      "        \u001b[1;31m^^^^^^^^^^^^^^^^^^^^^^^^^^^^^^^^^^^^^^^^^^^^^^^^^^^\u001b[0m\n",
      "    \u001b[1;31m)\u001b[0m\n",
      "    \u001b[1;31m^\u001b[0m\n",
      "  File \u001b[35m\"/home/r1j1n/miniconda3/envs/dtv/lib/python3.13/concurrent/futures/_base.py\"\u001b[0m, line \u001b[35m456\u001b[0m, in \u001b[35mresult\u001b[0m\n",
      "    return \u001b[31mself.__get_result\u001b[0m\u001b[1;31m()\u001b[0m\n",
      "           \u001b[31m~~~~~~~~~~~~~~~~~\u001b[0m\u001b[1;31m^^\u001b[0m\n",
      "  File \u001b[35m\"/home/r1j1n/miniconda3/envs/dtv/lib/python3.13/concurrent/futures/_base.py\"\u001b[0m, line \u001b[35m401\u001b[0m, in \u001b[35m__get_result\u001b[0m\n",
      "    raise self._exception\n",
      "  File \u001b[35m\"src/zeroconf/_services/info.py\"\u001b[0m, line \u001b[35m834\u001b[0m, in \u001b[35masync_request\u001b[0m\n",
      "  File \u001b[35m\"/home/r1j1n/miniconda3/envs/dtv/lib/python3.13/site-packages/zeroconf/_core.py\"\u001b[0m, line \u001b[35m235\u001b[0m, in \u001b[35masync_wait_for_start\u001b[0m\n",
      "    raise NotRunningException\n",
      "\u001b[1;35mzeroconf._exceptions.NotRunningException\u001b[0m\n",
      "Traceback (most recent call last):\n",
      "  File \u001b[35m\"/home/r1j1n/miniconda3/envs/dtv/lib/python3.13/threading.py\"\u001b[0m, line \u001b[35m1041\u001b[0m, in \u001b[35m_bootstrap_inner\u001b[0m\n",
      "    \u001b[31mself.run\u001b[0m\u001b[1;31m()\u001b[0m\n",
      "    \u001b[31m~~~~~~~~\u001b[0m\u001b[1;31m^^\u001b[0m\n",
      "  File \u001b[35m\"src/zeroconf/_services/browser.py\"\u001b[0m, line \u001b[35m811\u001b[0m, in \u001b[35mzeroconf._services.browser.ServiceBrowser.run\u001b[0m\n",
      "  File \u001b[35m\"src/zeroconf/_services/browser.py\"\u001b[0m, line \u001b[35m730\u001b[0m, in \u001b[35mzeroconf._services.browser._ServiceBrowserBase._fire_service_state_changed_event\u001b[0m\n",
      "  File \u001b[35m\"src/zeroconf/_services/browser.py\"\u001b[0m, line \u001b[35m740\u001b[0m, in \u001b[35mzeroconf._services.browser._ServiceBrowserBase._fire_service_state_changed_event\u001b[0m\n",
      "  File \u001b[35m\"src/zeroconf/_services/__init__.py\"\u001b[0m, line \u001b[35m56\u001b[0m, in \u001b[35mzeroconf._services.Signal.fire\u001b[0m\n",
      "  File \u001b[35m\"/tmp/ipykernel_142697/1764594277.py\"\u001b[0m, line \u001b[35m17\u001b[0m, in \u001b[35mon_service_state_change\u001b[0m\n",
      "    info = zeroconf.get_service_info(service_type, name)\n",
      "  File \u001b[35m\"/home/r1j1n/miniconda3/envs/dtv/lib/python3.13/site-packages/zeroconf/_core.py\"\u001b[0m, line \u001b[35m279\u001b[0m, in \u001b[35mget_service_info\u001b[0m\n",
      "    if \u001b[31minfo.request\u001b[0m\u001b[1;31m(self, timeout, question_type)\u001b[0m:\n",
      "       \u001b[31m~~~~~~~~~~~~\u001b[0m\u001b[1;31m^^^^^^^^^^^^^^^^^^^^^^^^^^^^^^\u001b[0m\n",
      "  File \u001b[35m\"src/zeroconf/_services/info.py\"\u001b[0m, line \u001b[35m796\u001b[0m, in \u001b[35mzeroconf._services.info.ServiceInfo.request\u001b[0m\n",
      "  File \u001b[35m\"/home/r1j1n/miniconda3/envs/dtv/lib/python3.13/site-packages/zeroconf/_utils/asyncio.py\"\u001b[0m, line \u001b[35m113\u001b[0m, in \u001b[35mrun_coro_with_timeout\u001b[0m\n",
      "    return \u001b[31masyncio.run_coroutine_threadsafe(aw, loop).result\u001b[0m\u001b[1;31m(\u001b[0m\n",
      "           \u001b[31m~~~~~~~~~~~~~~~~~~~~~~~~~~~~~~~~~~~~~~~~~~~~~~~~~\u001b[0m\u001b[1;31m^\u001b[0m\n",
      "        \u001b[1;31mmillis_to_seconds(timeout) + _LOADED_SYSTEM_TIMEOUT\u001b[0m\n",
      "        \u001b[1;31m^^^^^^^^^^^^^^^^^^^^^^^^^^^^^^^^^^^^^^^^^^^^^^^^^^^\u001b[0m\n",
      "    \u001b[1;31m)\u001b[0m\n",
      "    \u001b[1;31m^\u001b[0m\n",
      "  File \u001b[35m\"/home/r1j1n/miniconda3/envs/dtv/lib/python3.13/concurrent/futures/_base.py\"\u001b[0m, line \u001b[35m456\u001b[0m, in \u001b[35mresult\u001b[0m\n",
      "    return \u001b[31mself.__get_result\u001b[0m\u001b[1;31m()\u001b[0m\n",
      "           \u001b[31m~~~~~~~~~~~~~~~~~\u001b[0m\u001b[1;31m^^\u001b[0m\n",
      "  File \u001b[35m\"/home/r1j1n/miniconda3/envs/dtv/lib/python3.13/concurrent/futures/_base.py\"\u001b[0m, line \u001b[35m401\u001b[0m, in \u001b[35m__get_result\u001b[0m\n",
      "    raise self._exception\n",
      "  File \u001b[35m\"src/zeroconf/_services/info.py\"\u001b[0m, line \u001b[35m834\u001b[0m, in \u001b[35masync_request\u001b[0m\n",
      "  File \u001b[35m\"/home/r1j1n/miniconda3/envs/dtv/lib/python3.13/site-packages/zeroconf/_core.py\"\u001b[0m, line \u001b[35m235\u001b[0m, in \u001b[35masync_wait_for_start\u001b[0m\n",
      "    raise NotRunningException\n",
      "\u001b[1;35mzeroconf._exceptions.NotRunningException\u001b[0m\n"
     ]
    }
   ],
   "source": [
    "from zeroconf import Zeroconf, ServiceBrowser, ServiceStateChange\n",
    "import socket\n",
    "\n",
    "\n",
    "class PiDiscovery:\n",
    "    def __init__(self):\n",
    "        self.pis = {}\n",
    "        self.zeroconf = Zeroconf()\n",
    "        self.browser = ServiceBrowser(\n",
    "            self.zeroconf,\n",
    "            \"_pivideo._tcp.local.\",\n",
    "            handlers=[self.on_service_state_change],\n",
    "        )\n",
    "\n",
    "    def on_service_state_change(self, zeroconf, service_type, name, state_change):\n",
    "        if state_change is ServiceStateChange.Added:\n",
    "            info = zeroconf.get_service_info(service_type, name)\n",
    "            if info:\n",
    "                ip = socket.inet_ntoa(info.addresses[0])\n",
    "                hostname = info.properties.get(b\"hostname\", b\"\").decode(\"utf-8\")\n",
    "                self.pis[hostname] = ip\n",
    "        elif state_change is ServiceStateChange.Removed:\n",
    "            self.pis.pop(name, None)\n",
    "\n",
    "    def get_pis(self):\n",
    "        return [{\"name\": name, \"host\": host} for name, host in self.pis.items()]\n",
    "\n",
    "\n",
    "if __name__ == \"__main__\":\n",
    "    import time\n",
    "\n",
    "    discovery = PiDiscovery()\n",
    "\n",
    "    try:\n",
    "        print(\"Scanning for Pis...\")\n",
    "        while True:\n",
    "            time.sleep(5)\n",
    "            print(\"Discovered Pis:\", discovery.get_pis())\n",
    "    except KeyboardInterrupt:\n",
    "        print(\"Stopping discovery.\")\n",
    "    finally:\n",
    "        discovery.zeroconf.close()\n"
   ]
  },
  {
   "cell_type": "code",
   "execution_count": 7,
   "metadata": {},
   "outputs": [
    {
     "data": {
      "text/plain": [
       "'Mon Jan 13 13:26:47 2025'"
      ]
     },
     "execution_count": 7,
     "metadata": {},
     "output_type": "execute_result"
    }
   ],
   "source": [
    "import os\n",
    "time.ctime(os.path.getmtime(\"videos/ah shit here we go again.mp4\"))"
   ]
  },
  {
   "cell_type": "code",
   "execution_count": null,
   "metadata": {},
   "outputs": [],
   "source": []
  }
 ],
 "metadata": {
  "kernelspec": {
   "display_name": "dtv",
   "language": "python",
   "name": "python3"
  },
  "language_info": {
   "codemirror_mode": {
    "name": "ipython",
    "version": 3
   },
   "file_extension": ".py",
   "mimetype": "text/x-python",
   "name": "python",
   "nbconvert_exporter": "python",
   "pygments_lexer": "ipython3",
   "version": "3.13.1"
  }
 },
 "nbformat": 4,
 "nbformat_minor": 2
}
