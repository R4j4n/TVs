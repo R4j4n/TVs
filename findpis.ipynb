{
 "cells": [
  {
   "cell_type": "code",
   "execution_count": null,
   "metadata": {},
   "outputs": [],
   "source": [
    "import socket\n",
    "from zeroconf import ServiceBrowser, ServiceStateChange, Zeroconf\n",
    "\n",
    "\n",
    "class PiDiscovery:\n",
    "    def __init__(self):\n",
    "        self.pis = {}\n",
    "        self.zeroconf = Zeroconf()\n",
    "        self.browser = ServiceBrowser(\n",
    "            self.zeroconf,\n",
    "            \"_pivideo._tcp.local.\",\n",
    "            handlers=[self.on_service_state_change],\n",
    "        )\n",
    "        \n",
    "    def on_service_state_change(self, zeroconf, service_type, name, state_change):\n",
    "        if state_change is ServiceStateChange.Added:\n",
    "            info = self.zeroconf.get_service_info(service_type, name)\n",
    "            if info:\n",
    "                ip = socket.inet_ntoa(info.addresses[0])\n",
    "                hostname = info.properties.get(b\"hostname\", b\"\").decode(\"utf-8\")\n",
    "                self.pis[hostname] = f\"http://{ip}:5000\"\n",
    "\n",
    "    def get_pis(self):\n",
    "        return self.pis\n",
    "\n",
    "\n",
    "discovery = PiDiscovery()\n"
   ]
  },
  {
   "cell_type": "code",
   "execution_count": null,
   "metadata": {},
   "outputs": [],
   "source": [
    "discovery.get_pis().items()"
   ]
  }
 ],
 "metadata": {
  "kernelspec": {
   "display_name": "dtv",
   "language": "python",
   "name": "python3"
  },
  "language_info": {
   "name": "python",
   "version": "3.13.1"
  }
 },
 "nbformat": 4,
 "nbformat_minor": 2
}
