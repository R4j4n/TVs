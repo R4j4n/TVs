{
 "cells": [
  {
   "cell_type": "code",
   "execution_count": 1,
   "metadata": {},
   "outputs": [],
   "source": [
    "from typing import Literal\n",
    "import subprocess\n",
    "import os\n",
    "from typing import Union\n",
    "import logging\n",
    "\n",
    "class VideoCompressor:\n",
    "    \"\"\"\n",
    "    A class to compress videos using FFmpeg, optimized for ARM architectures.\n",
    "    Supports 240p, 480p, and 720p resolutions with customizable framerate.\n",
    "    Audio is stripped for preview purposes.\n",
    "    \"\"\"\n",
    "    \n",
    "    ResolutionType = Literal[240, 480, 720]\n",
    "    \n",
    "    def __init__(self, target_resolution: ResolutionType, target_fps :int = 14):\n",
    "        \"\"\"\n",
    "        Initialize the video compressor with target resolution.\n",
    "        \n",
    "        Args:\n",
    "            target_resolution: Output video resolution (240, 480, or 720)\n",
    "        \"\"\"\n",
    "        self.target_resolution = target_resolution\n",
    "        self.target_fps = target_fps\n",
    "        self.logger = logging.getLogger(__name__)\n",
    "        self._setup_logging()\n",
    "        \n",
    "        # Resolution mappings\n",
    "        self.resolution_map = {\n",
    "            240: \"426:240\",   # 240p (maintaining 16:9 aspect ratio)\n",
    "            480: \"854:480\",   # 480p (maintaining 16:9 aspect ratio)\n",
    "            720: \"1280:720\"   # 720p (maintaining 16:9 aspect ratio)\n",
    "        }\n",
    "        \n",
    "        # Verify FFmpeg installation\n",
    "        self._check_ffmpeg()\n",
    "    \n",
    "    def _setup_logging(self):\n",
    "        \"\"\"Configure logging for the compressor\"\"\"\n",
    "        logging.basicConfig(\n",
    "            level=logging.INFO,\n",
    "            format='%(asctime)s - %(name)s - %(levelname)s - %(message)s'\n",
    "        )\n",
    "    \n",
    "    def _check_ffmpeg(self):\n",
    "        \"\"\"Verify FFmpeg is installed and accessible\"\"\"\n",
    "        try:\n",
    "            subprocess.run(['ffmpeg', '-version'], \n",
    "                         stdout=subprocess.PIPE, \n",
    "                         stderr=subprocess.PIPE)\n",
    "        except FileNotFoundError:\n",
    "            raise RuntimeError(\"FFmpeg not found. Please install FFmpeg first.\")\n",
    "    \n",
    "    def compress_video(self, \n",
    "                      input_path: str, \n",
    "                      output_path: str, \n",
    "                      crf: int = 28) -> bool:\n",
    "        \"\"\"\n",
    "        Compress the input video according to specified parameters.\n",
    "        Audio is removed for preview purposes.\n",
    "        \n",
    "        Args:\n",
    "            input_path: Path to input video file\n",
    "            output_path: Path where compressed video will be saved\n",
    "            crf: Constant Rate Factor for compression (18-51, higher means more compression)\n",
    "                 Default is 28 for good compression while maintaining decent quality\n",
    "        \n",
    "        Returns:\n",
    "            bool: True if compression successful, False otherwise\n",
    "        \"\"\"\n",
    "        if not os.path.exists(input_path):\n",
    "            self.logger.error(f\"Input file not found: {input_path}\")\n",
    "            return False\n",
    "            \n",
    "        # Get target resolution from map\n",
    "        resolution = self.resolution_map[self.target_resolution]\n",
    "        \n",
    "        try:\n",
    "            # Construct FFmpeg command optimized for ARM, no audio\n",
    "            command = [\n",
    "                'ffmpeg',\n",
    "                '-i', input_path,\n",
    "                '-vf', f'scale={resolution}',  # Set resolution\n",
    "                '-c:v', 'libx264',            # Use H.264 codec\n",
    "                '-preset', 'ultrafast',       # Fastest encoding for preview\n",
    "                '-crf', str(crf),            # Compression quality\n",
    "                '-r', str(self.target_fps),       # Set framerate\n",
    "                '-an',                       # Remove audio\n",
    "                '-pix_fmt', 'yuv420p',       # Widely compatible pixel format\n",
    "                '-tune', 'fastdecode',       # Optimize for fast decoding\n",
    "                '-movflags', '+faststart',   # Enable fast start for web playback\n",
    "                '-y',                        # Overwrite output file if exists\n",
    "                output_path\n",
    "            ]\n",
    "            \n",
    "            self.logger.info(f\"Starting compression of {input_path}\")\n",
    "            self.logger.info(f\"Target resolution: {resolution}, FPS: {self.target_fps}\")\n",
    "            \n",
    "            # Run FFmpeg command\n",
    "            process = subprocess.run(\n",
    "                command,\n",
    "                stdout=subprocess.PIPE,\n",
    "                stderr=subprocess.PIPE,\n",
    "                universal_newlines=True\n",
    "            )\n",
    "            \n",
    "            if process.returncode == 0:\n",
    "                self.logger.info(\"Video compression completed successfully\")\n",
    "                return True\n",
    "            else:\n",
    "                self.logger.error(f\"FFmpeg error: {process.stderr}\")\n",
    "                return False\n",
    "                \n",
    "        except Exception as e:\n",
    "            self.logger.error(f\"Compression failed: {str(e)}\")\n",
    "            return False\n",
    "    \n",
    "    def get_video_info(self, video_path: str) -> Union[dict, None]:\n",
    "        \"\"\"\n",
    "        Get information about the video file using FFprobe.\n",
    "        \n",
    "        Args:\n",
    "            video_path: Path to video file\n",
    "        \n",
    "        Returns:\n",
    "            dict: Video information or None if failed\n",
    "        \"\"\"\n",
    "        try:\n",
    "            command = [\n",
    "                'ffprobe',\n",
    "                '-v', 'quiet',\n",
    "                '-print_format', 'json',\n",
    "                '-show_format',\n",
    "                '-show_streams',\n",
    "                video_path\n",
    "            ]\n",
    "            \n",
    "            result = subprocess.run(command, \n",
    "                                  stdout=subprocess.PIPE, \n",
    "                                  stderr=subprocess.PIPE,\n",
    "                                  universal_newlines=True)\n",
    "            \n",
    "            if result.returncode == 0:\n",
    "                import json\n",
    "                return json.loads(result.stdout)\n",
    "            return None\n",
    "            \n",
    "        except Exception as e:\n",
    "            self.logger.error(f\"Failed to get video info: {str(e)}\")\n",
    "            return None"
   ]
  },
  {
   "cell_type": "code",
   "execution_count": 2,
   "metadata": {},
   "outputs": [
    {
     "name": "stderr",
     "output_type": "stream",
     "text": [
      "2025-01-17 21:13:56,617 - __main__ - INFO - Starting compression of videos/LOND  Front Counter PricesPromotions Menu.mp4\n",
      "2025-01-17 21:13:56,618 - __main__ - INFO - Target resolution: 426:240, FPS: 14\n",
      "2025-01-17 21:14:07,317 - __main__ - INFO - Video compression completed successfully\n"
     ]
    },
    {
     "data": {
      "text/plain": [
       "True"
      ]
     },
     "execution_count": 2,
     "metadata": {},
     "output_type": "execute_result"
    }
   ],
   "source": [
    "compressor = VideoCompressor(target_resolution=240,target_fps=14)\n",
    "\n",
    "compressor.compress_video(input_path=\"videos/LOND  Front Counter PricesPromotions Menu.mp4\",output_path=\"videos/compressed.mp4\")"
   ]
  },
  {
   "cell_type": "code",
   "execution_count": 4,
   "metadata": {},
   "outputs": [],
   "source": [
    "import os\n",
    "x = \"videos/compressed_LOND  Front Counter PricesPromotions Menu.mp4\"\n",
    "y = \"/home/r1j1n/Documents/GitHub/TVs/videos/LOND  Front Counter PricesPromotions Menu.mp4\""
   ]
  },
  {
   "cell_type": "code",
   "execution_count": 5,
   "metadata": {},
   "outputs": [
    {
     "data": {
      "text/plain": [
       "'compressed_LOND  Front Counter PricesPromotions Menu.mp4'"
      ]
     },
     "execution_count": 5,
     "metadata": {},
     "output_type": "execute_result"
    }
   ],
   "source": [
    "os.path.basename(x)"
   ]
  },
  {
   "cell_type": "code",
   "execution_count": null,
   "metadata": {},
   "outputs": [],
   "source": []
  }
 ],
 "metadata": {
  "kernelspec": {
   "display_name": "dtv",
   "language": "python",
   "name": "python3"
  },
  "language_info": {
   "codemirror_mode": {
    "name": "ipython",
    "version": 3
   },
   "file_extension": ".py",
   "mimetype": "text/x-python",
   "name": "python",
   "nbconvert_exporter": "python",
   "pygments_lexer": "ipython3",
   "version": "3.13.1"
  }
 },
 "nbformat": 4,
 "nbformat_minor": 2
}
